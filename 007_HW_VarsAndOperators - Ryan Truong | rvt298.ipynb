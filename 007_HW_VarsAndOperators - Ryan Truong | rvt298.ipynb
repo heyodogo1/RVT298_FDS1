{
 "cells": [
  {
   "cell_type": "code",
   "execution_count": 4,
   "id": "702930f1",
   "metadata": {},
   "outputs": [
    {
     "name": "stdout",
     "output_type": "stream",
     "text": [
      "21 RyanTruong\n"
     ]
    }
   ],
   "source": [
    "name = 'RyanTruong'\n",
    "age = 21\n",
    "name, age = age, name\n",
    "print(name, age)"
   ]
  },
  {
   "cell_type": "code",
   "execution_count": 9,
   "id": "63b17630",
   "metadata": {},
   "outputs": [
    {
     "name": "stdout",
     "output_type": "stream",
     "text": [
      "<class 'int'>\n",
      "<class 'float'>\n",
      "<class 'str'>\n",
      "<class 'list'>\n",
      "<class 'int'>\n",
      "<class 'set'>\n",
      "<class 'bool'>\n",
      "True\n"
     ]
    }
   ],
   "source": [
    "print(type(5))\n",
    "print(type(5.0))\n",
    "print(type('5'))\n",
    "print(type([5]))\n",
    "print(type(5,))\n",
    "print(type({5}))\n",
    "print(type(True))\n",
    "\n",
    "is_student = True\n",
    "print(is_student)"
   ]
  },
  {
   "cell_type": "code",
   "execution_count": 12,
   "id": "bdd48f84",
   "metadata": {},
   "outputs": [
    {
     "name": "stdout",
     "output_type": "stream",
     "text": [
      "38\n",
      "18\n",
      "56\n",
      "25.0\n",
      "0\n",
      "100000\n"
     ]
    }
   ],
   "source": [
    "print(15 + 23)\n",
    "print(50 - 32)\n",
    "print(8 * 7)\n",
    "print(100/4)\n",
    "\n",
    "a = 10\n",
    "b = 5\n",
    "print(a%b)\n",
    "print(a**b)"
   ]
  },
  {
   "cell_type": "code",
   "execution_count": 24,
   "id": "ca43edbc",
   "metadata": {},
   "outputs": [
    {
     "name": "stdout",
     "output_type": "stream",
     "text": [
      "123\n",
      "<class 'int'>\n",
      "456\n",
      "<class 'str'>\n",
      "78\n",
      "<class 'int'>\n"
     ]
    }
   ],
   "source": [
    "print(int(\"123\"))\n",
    "print(type(int(\"123\")))\n",
    "\n",
    "print(str(456))\n",
    "print(type(str(456)))\n",
    "\n",
    "print(int(78.9))\n",
    "print(type(int(78.9)))"
   ]
  },
  {
   "cell_type": "code",
   "execution_count": 26,
   "id": "eb4a5d85",
   "metadata": {},
   "outputs": [
    {
     "name": "stdout",
     "output_type": "stream",
     "text": [
      "PythonRocks\n"
     ]
    }
   ],
   "source": [
    "a = \"Python\"+\"Rocks\"\n",
    "print(a)"
   ]
  },
  {
   "cell_type": "code",
   "execution_count": 31,
   "id": "a92b06bb",
   "metadata": {},
   "outputs": [
    {
     "name": "stdout",
     "output_type": "stream",
     "text": [
      "HelloHelloHello\n"
     ]
    }
   ],
   "source": [
    "b = \"Hello\"*3\n",
    "print(b)"
   ]
  },
  {
   "cell_type": "code",
   "execution_count": 37,
   "id": "77f73b10",
   "metadata": {},
   "outputs": [
    {
     "name": "stdout",
     "output_type": "stream",
     "text": [
      "10 15.0 5.0\n"
     ]
    }
   ],
   "source": [
    "x = 5\n",
    "y = 10\n",
    "z = 15\n",
    "\n",
    "x = x + x\n",
    "y = x/x + x/x + x/x + x/x + x/x + x/x + x/x + x/x + x/x + x/x + x/x + x/x + x/x + x/x + x/x\n",
    "z = x/x + x/x + x/x + x/x + x/x\n",
    "\n",
    "print(x, y, z)"
   ]
  },
  {
   "cell_type": "code",
   "execution_count": null,
   "id": "e81a840e",
   "metadata": {},
   "outputs": [],
   "source": []
  }
 ],
 "metadata": {
  "kernelspec": {
   "display_name": "Python 3 (ipykernel)",
   "language": "python",
   "name": "python3"
  },
  "language_info": {
   "codemirror_mode": {
    "name": "ipython",
    "version": 3
   },
   "file_extension": ".py",
   "mimetype": "text/x-python",
   "name": "python",
   "nbconvert_exporter": "python",
   "pygments_lexer": "ipython3",
   "version": "3.11.4"
  }
 },
 "nbformat": 4,
 "nbformat_minor": 5
}
