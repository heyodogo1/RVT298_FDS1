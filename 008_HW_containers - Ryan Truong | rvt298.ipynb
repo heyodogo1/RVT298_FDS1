{
 "cells": [
  {
   "cell_type": "markdown",
   "id": "0363d347",
   "metadata": {},
   "source": [
    "# 1. \n",
    "### Indexing Strings:\n",
    "### s = \"PYTHON\"\n",
    "### retrieve + print[first char, last char, string H, type of H]"
   ]
  },
  {
   "cell_type": "code",
   "execution_count": 8,
   "id": "b22110b3",
   "metadata": {},
   "outputs": [
    {
     "name": "stdout",
     "output_type": "stream",
     "text": [
      "\n",
      "P\n",
      "\n",
      "O\n",
      "\n",
      "H\n",
      "\n",
      "<class 'str'>\n"
     ]
    }
   ],
   "source": [
    "s = \"PYTHON\"\n",
    "(s[0])\n",
    "print( )\n",
    "print(s[0])\n",
    "(s[4])\n",
    "print( )\n",
    "print(s[4])\n",
    "(s[3])\n",
    "print( )\n",
    "print(s[3])\n",
    "(type(s[3]))\n",
    "print( )\n",
    "print(type(s[3]))"
   ]
  },
  {
   "cell_type": "markdown",
   "id": "79b64fd1",
   "metadata": {},
   "source": [
    "# 2.\n",
    "### Indexing Tuples\n",
    "### t = (10, 20, 30, 40, 50, 60)\n",
    "#### retrieve + print(first element, third element, set 3rd element to 30.4)"
   ]
  },
  {
   "cell_type": "code",
   "execution_count": 7,
   "id": "1fa530b6",
   "metadata": {},
   "outputs": [
    {
     "name": "stdout",
     "output_type": "stream",
     "text": [
      "\n",
      "10\n",
      "\n",
      "30\n"
     ]
    },
    {
     "ename": "TypeError",
     "evalue": "'tuple' object does not support item assignment",
     "output_type": "error",
     "traceback": [
      "\u001b[0;31m---------------------------------------------------------------------------\u001b[0m",
      "\u001b[0;31mTypeError\u001b[0m                                 Traceback (most recent call last)",
      "Cell \u001b[0;32mIn[7], line 8\u001b[0m\n\u001b[1;32m      6\u001b[0m \u001b[38;5;28mprint\u001b[39m( )\n\u001b[1;32m      7\u001b[0m \u001b[38;5;28mprint\u001b[39m(t[\u001b[38;5;241m2\u001b[39m])\n\u001b[0;32m----> 8\u001b[0m t[\u001b[38;5;241m2\u001b[39m] \u001b[38;5;241m=\u001b[39m \u001b[38;5;241m30.4\u001b[39m\n\u001b[1;32m      9\u001b[0m \u001b[38;5;28mprint\u001b[39m( )\n\u001b[1;32m     10\u001b[0m \u001b[38;5;28mprint\u001b[39m(t[\u001b[38;5;241m2\u001b[39m])\n",
      "\u001b[0;31mTypeError\u001b[0m: 'tuple' object does not support item assignment"
     ]
    }
   ],
   "source": [
    "t = (10, 20, 30, 40, 50, 60)\n",
    "t[0]\n",
    "print( )\n",
    "print(t[0])\n",
    "t[2]\n",
    "print( )\n",
    "print(t[2])\n",
    "t[2] = 30.4\n",
    "print( )\n",
    "print(t[2])"
   ]
  },
  {
   "cell_type": "markdown",
   "id": "5de9bb06",
   "metadata": {},
   "source": [
    "# 3.\n",
    "### Indexing Lists and Lists of Lists\n",
    "### lst = [5, 15, 25, [35, 36, [55, 65, 75], 85], 95]\n",
    "#### retrieve + print(first element, last element, sublist[55, 65, 75], entity 65)"
   ]
  },
  {
   "cell_type": "code",
   "execution_count": 6,
   "id": "ab84d7da",
   "metadata": {},
   "outputs": [
    {
     "name": "stdout",
     "output_type": "stream",
     "text": [
      "\n",
      "[5, 15, 25, [35, 36, [55, 65, 75], 85], 95]\n",
      "\n",
      "5\n",
      "\n",
      "95\n",
      "\n",
      "[55, 65, 75]\n",
      "\n",
      "65\n"
     ]
    }
   ],
   "source": [
    "lst = [5, 15, 25, [35, 36, [55, 65, 75], 85], 95]\n",
    "print( )\n",
    "print(lst)\n",
    "lst[0]\n",
    "print( )\n",
    "print(lst[0])\n",
    "lst[4]\n",
    "print( )\n",
    "print(lst[4])\n",
    "lst[3][2]\n",
    "print( )\n",
    "print(lst[3][2])\n",
    "lst[3][2][1]\n",
    "print( )\n",
    "print(lst[3][2][1])"
   ]
  },
  {
   "cell_type": "markdown",
   "id": "c431b8cf",
   "metadata": {},
   "source": [
    "# 4.\n",
    "### List of Lists as Arrays\n",
    "### matrix = [[1, 2, 3], [4, 5, 6], [7, 8, 9]]\n",
    "### retreive(second row, third column)\n",
    "### change center element to 0\n",
    "### print modified matrix"
   ]
  },
  {
   "cell_type": "code",
   "execution_count": 9,
   "id": "dfe111a1",
   "metadata": {},
   "outputs": [
    {
     "name": "stdout",
     "output_type": "stream",
     "text": [
      "\n",
      "[4, 5, 6]\n",
      "\n",
      "[3, 6, 9]\n",
      "\n",
      "0\n",
      "\n",
      "[1, 2, 3]\n",
      "[4, 0, 6]\n",
      "[7, 8, 9]\n"
     ]
    }
   ],
   "source": [
    "matrix = [[1, 2, 3],[4, 5, 6],[7, 8, 9]]\n",
    "matrix[1]\n",
    "print( )\n",
    "print(matrix[1])\n",
    "coolness = [matrix[0][2], matrix[1][2], matrix[2][2]]\n",
    "print( )\n",
    "print(coolness)\n",
    "matrix[1][1] = 0\n",
    "print( )\n",
    "print(matrix[1][1])\n",
    "print( )\n",
    "print(matrix[0])\n",
    "print(matrix[1])\n",
    "print(matrix[2])"
   ]
  },
  {
   "cell_type": "markdown",
   "id": "72837f73",
   "metadata": {},
   "source": [
    "# 5. \n",
    "### A = [1,2,3,4,4,5] ; B = [4,5,5,6,7,7,8]\n",
    "### Create the sets\n",
    "### Find union between sets\n",
    "### Find intersection \" \" \n",
    "### Find difference between A and B (both ways around)\n"
   ]
  },
  {
   "cell_type": "code",
   "execution_count": 21,
   "id": "84aa4c53",
   "metadata": {},
   "outputs": [
    {
     "name": "stdout",
     "output_type": "stream",
     "text": [
      "\n",
      "{1, 2, 3, 4, 5, 6, 7, 8}\n",
      "\n",
      "{4, 5}\n",
      "\n",
      "{1, 2, 3}\n",
      "\n",
      "{1, 2, 3, 6, 7, 8}\n"
     ]
    }
   ],
   "source": [
    "A = [1, 2, 3, 4, 4, 5]\n",
    "B = [4, 5, 5, 6, 7, 7, 8]\n",
    "A = set(A)\n",
    "B = set(B)\n",
    "\n",
    "swag = A | B\n",
    "print()\n",
    "print(swag)\n",
    "wizard = A & B\n",
    "print()\n",
    "print(wizard)\n",
    "ninja = A - B\n",
    "print()\n",
    "print(ninja)\n",
    "supercool = A ^ B\n",
    "print()\n",
    "print(supercool)\n"
   ]
  },
  {
   "cell_type": "markdown",
   "id": "ed0a8555",
   "metadata": {},
   "source": [
    "# 6.\n",
    "### stock = { apple:50, banana:25, orange:30, grape:45 }\n",
    "### Retreive apple stock\n",
    "### Add pear w/ 40\n",
    "### Banana update to 30\n",
    "### rmv orange"
   ]
  },
  {
   "cell_type": "code",
   "execution_count": 30,
   "id": "947899d4",
   "metadata": {},
   "outputs": [
    {
     "name": "stdout",
     "output_type": "stream",
     "text": [
      "50\n",
      "\n",
      "40\n",
      "\n",
      "30\n",
      "\n",
      "{'apple': 50, 'banana': 30, 'grape': 45, 'pear': 40}\n"
     ]
    }
   ],
   "source": [
    "stock = {\n",
    "    \"apple\": 50,\n",
    "    \"banana\": 25,\n",
    "    \"orange\": 30,\n",
    "    \"grape\": 45\n",
    "}\n",
    "\n",
    "print(stock['apple'])\n",
    "stock['pear'] = 40\n",
    "print()\n",
    "print(stock['pear'])\n",
    "stock['banana'] = 30\n",
    "print()\n",
    "print(stock['banana'])\n",
    "del stock['orange']\n",
    "print()\n",
    "print(stock)"
   ]
  }
 ],
 "metadata": {
  "kernelspec": {
   "display_name": "Python 3 (ipykernel)",
   "language": "python",
   "name": "python3"
  },
  "language_info": {
   "codemirror_mode": {
    "name": "ipython",
    "version": 3
   },
   "file_extension": ".py",
   "mimetype": "text/x-python",
   "name": "python",
   "nbconvert_exporter": "python",
   "pygments_lexer": "ipython3",
   "version": "3.11.4"
  }
 },
 "nbformat": 4,
 "nbformat_minor": 5
}
