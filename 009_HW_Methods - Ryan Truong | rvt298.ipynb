{
 "cells": [
  {
   "cell_type": "markdown",
   "id": "403feb3c",
   "metadata": {},
   "source": [
    "# A1. Strings\n",
    "- String s = \"ProgrammingIsFun\"\n",
    "- Extract + print substring \"Programming\"\n",
    "- Extract + print every 3rd char of str"
   ]
  },
  {
   "cell_type": "code",
   "execution_count": 1,
   "id": "49cb72d7",
   "metadata": {},
   "outputs": [
    {
     "name": "stdout",
     "output_type": "stream",
     "text": [
      "\n",
      "Programming\n",
      "\n",
      "gmnsn\n",
      "\n"
     ]
    }
   ],
   "source": [
    "s = \"ProgrammingisFun\"\n",
    "print()\n",
    "print(s[0:11])\n",
    "print()\n",
    "print(s[3::3])\n",
    "print()"
   ]
  },
  {
   "cell_type": "markdown",
   "id": "c0402edb",
   "metadata": {},
   "source": [
    "# A2. Lists\n",
    "- lst = [10, 20, 30, 40, 50, 60, 70 , 80]\n",
    "- E + P first 3 elements\n",
    "- \" \" last 2 elements\n",
    "- \" \" elements from index 3 - 6 (*inclusive*)\n",
    "- \" \" every 2nd element \n",
    "- \" \" every 2 element **started from the end of the list**"
   ]
  },
  {
   "cell_type": "code",
   "execution_count": 2,
   "id": "d73ffba6",
   "metadata": {},
   "outputs": [
    {
     "name": "stdout",
     "output_type": "stream",
     "text": [
      "\n",
      "[10, 20, 30]\n",
      "\n",
      "[70, 80]\n",
      "\n",
      "[30, 40, 50]\n",
      "\n",
      "[20, 40, 60, 80]\n",
      "\n",
      "[60, 40, 20]\n"
     ]
    }
   ],
   "source": [
    "lst = [10, 20, 30, 40, 50, 60, 70, 80]\n",
    "first_3 = lst[0:3]\n",
    "print() \n",
    "print(first_3)\n",
    "print()\n",
    "last_2_ele = lst [6:]\n",
    "print(last_2_ele)\n",
    "print()\n",
    "index_3_6_i = lst[2:5]\n",
    "print(index_3_6_i)\n",
    "print()\n",
    "every_2nd = lst[1::2]\n",
    "print(every_2nd)\n",
    "print()\n",
    "every_2nd_reverse = lst[-3::-2]\n",
    "print(every_2nd_reverse)"
   ]
  },
  {
   "cell_type": "markdown",
   "id": "8b976b4c",
   "metadata": {},
   "source": [
    "# A3. Tuples\n",
    "- tup = (5, 10, 15, 20, 25, 30, 35, 40)\n",
    "    - E + P second element\n",
    "    - \" \" print last 3 elements\n",
    "    - \" \" elements from index 2 - 5 (*exclusive*)"
   ]
  },
  {
   "cell_type": "code",
   "execution_count": 10,
   "id": "8c4490f9",
   "metadata": {},
   "outputs": [
    {
     "name": "stdout",
     "output_type": "stream",
     "text": [
      "\n",
      "10\n",
      "\n",
      "(40, 25, 10)\n",
      "\n",
      "(15, 20, 25)\n"
     ]
    }
   ],
   "source": [
    "tup = (5, 10, 15, 20, 25, 30, 35, 40)\n",
    "second_ele = tup[1]\n",
    "print()\n",
    "print(second_ele)\n",
    "print()\n",
    "last_3_ele_tup = tup[-1::-3]\n",
    "print(last_3_ele_tup)\n",
    "print()\n",
    "index_2_5_tup = tup[2:5]\n",
    "print(index_2_5_tup)"
   ]
  },
  {
   "cell_type": "markdown",
   "id": "c77945e4",
   "metadata": {},
   "source": [
    "# B1. Strings\n",
    "- Find + print inedx of first occurance of substring \"ming\" in s\n",
    "- Convert string s to lowercase, print\n",
    "- Place substring \"Fun\" w/ \"Amazing,\" print"
   ]
  },
  {
   "cell_type": "code",
   "execution_count": 4,
   "id": "3f5cf0e6",
   "metadata": {},
   "outputs": [
    {
     "name": "stdout",
     "output_type": "stream",
     "text": [
      "\n",
      "ming\n",
      "\n",
      "programmingisfun\n"
     ]
    },
    {
     "data": {
      "text/plain": [
       "'ProgrammingisAmazing'"
      ]
     },
     "execution_count": 4,
     "metadata": {},
     "output_type": "execute_result"
    }
   ],
   "source": [
    "ming = s[7:11]\n",
    "print()\n",
    "print(ming)\n",
    "print()\n",
    "print(s.lower())\n",
    "rep_string = \"Amazing\"\n",
    "s.replace(\"Fun\", rep_string)\n"
   ]
  },
  {
   "cell_type": "markdown",
   "id": "2d951c74",
   "metadata": {},
   "source": [
    "# B2. Lists\n",
    "- Add elements 90 + 100 to end of lst, print\n",
    "- remove 2nd element from lst, \" \" \n",
    "- reserve the order of elements in lst, \" \"\n",
    "- F + P index of element 50 in lst."
   ]
  },
  {
   "cell_type": "code",
   "execution_count": 5,
   "id": "d318e668",
   "metadata": {},
   "outputs": [
    {
     "name": "stdout",
     "output_type": "stream",
     "text": [
      "[10, 20, 30, 40, 50, 60, 70, 80, 90, 100]\n",
      "[10, 30, 40, 50, 60, 70, 80, 90, 100]\n",
      "[100, 90, 80, 70, 60, 50, 40, 30, 10]\n"
     ]
    }
   ],
   "source": [
    "lst.extend([90, 100])\n",
    "print(lst)\n",
    "lst.pop(1)\n",
    "print(lst)\n",
    "lst.reverse()\n",
    "print(lst)\n",
    "_50_ = lst.index(50)\n",
    "print = _50_"
   ]
  },
  {
   "cell_type": "markdown",
   "id": "3440a67a",
   "metadata": {},
   "source": [
    "# B3. Tuples\n",
    "- Count + P number of occurances of 20 in tup\n",
    "- Convert tup into lst, add 45 to end, convert back to tup. Print"
   ]
  },
  {
   "cell_type": "code",
   "execution_count": 16,
   "id": "b2e6a097",
   "metadata": {},
   "outputs": [
    {
     "name": "stdout",
     "output_type": "stream",
     "text": [
      "1\n",
      "(5, 10, 15, 20, 25, 30, 35, 40, 45)\n"
     ]
    }
   ],
   "source": [
    "print(tup.count(20))\n",
    "tupl = list(tup)\n",
    "tup1.append(45)\n",
    "tup1.remove(45)\n",
    "tup1.remove(45)\n",
    "tupl.remove(45)\n",
    "tupl.remove(45)\n",
    "tup = tuple(tup1)\n",
    "print(tup)\n"
   ]
  },
  {
   "cell_type": "markdown",
   "id": "da949843",
   "metadata": {},
   "source": [
    "# B4. Dictionaries\n",
    "- Given dictionary S_Doo_ = {\"Scooby\": 4, \"Shaggy\": 19, \"Velma\": 18, \"Daphne\": 20}\n",
    "    - Add a new key-value pair: \"Phred\": 21 + Print\n",
    "    - Retrieve + P age of \"Velma\"\n",
    "    - Remove \"Scooby\" and his age from dictionary, Print\n",
    "    - P all keys in dictionary\n",
    "    - P all values in dictionary"
   ]
  },
  {
   "cell_type": "code",
   "execution_count": 22,
   "id": "4b86a55b",
   "metadata": {},
   "outputs": [
    {
     "name": "stdout",
     "output_type": "stream",
     "text": [
      "{'Scooby': 4, 'Shaggy': 19, 'Velma': 18, 'Daphne': 20, 'Phred': 21}\n",
      "\n",
      "18\n",
      "\n",
      "{'Shaggy': 19, 'Velma': 18, 'Daphne': 20, 'Phred': 21}\n",
      "\n",
      "dict_keys(['Shaggy', 'Velma', 'Daphne', 'Phred'])\n",
      "dict_values([19, 18, 20, 21])\n"
     ]
    }
   ],
   "source": [
    "S_Doo_ = {\"Scooby\": 4, \"Shaggy\": 19, \"Velma\": 18, \"Daphne\": 20}\n",
    "\n",
    "S_Doo_[\"Phred\"] = 21\n",
    "print(S_Doo_)\n",
    "print()\n",
    "print(S_Doo_[\"Velma\"])\n",
    "S_Doo_.pop(\"Scooby\",)\n",
    "print()\n",
    "print(S_Doo_)\n",
    "print()\n",
    "print(S_Doo_.keys())\n",
    "print(S_Doo_.values())"
   ]
  }
 ],
 "metadata": {
  "kernelspec": {
   "display_name": "Python 3 (ipykernel)",
   "language": "python",
   "name": "python3"
  },
  "language_info": {
   "codemirror_mode": {
    "name": "ipython",
    "version": 3
   },
   "file_extension": ".py",
   "mimetype": "text/x-python",
   "name": "python",
   "nbconvert_exporter": "python",
   "pygments_lexer": "ipython3",
   "version": "3.11.4"
  }
 },
 "nbformat": 4,
 "nbformat_minor": 5
}
