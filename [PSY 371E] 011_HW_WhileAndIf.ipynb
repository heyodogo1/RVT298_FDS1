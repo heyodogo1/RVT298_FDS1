{
 "cells": [
  {
   "cell_type": "markdown",
   "id": "4db505e6-2fa5-4e8d-bb06-61dc0ec961ec",
   "metadata": {},
   "source": [
    "# 0. Logic\n",
    "a. write code that determines if letter in `test_string = [\"y\",\"o\"]` are in `str comp_string = \"Hello World\"`"
   ]
  },
  {
   "cell_type": "code",
   "execution_count": 2,
   "id": "983ec49f-a48b-494f-bf07-97d39131adbb",
   "metadata": {
    "tags": []
   },
   "outputs": [
    {
     "name": "stdout",
     "output_type": "stream",
     "text": [
      "false\n",
      "true\n"
     ]
    }
   ],
   "source": [
    "test_string = [\"y\",\"o\"]\n",
    "comp_string = \"Hello World\"\n",
    "for i in test_string:\n",
    "    if i in comp_string:\n",
    "        print('true')\n",
    "    else:\n",
    "        print('false')"
   ]
  },
  {
   "cell_type": "markdown",
   "id": "d6005b9c-33da-4125-bd8a-b5d756a861ad",
   "metadata": {},
   "source": [
    "b. write line of code that performs xor/two boolean variabls, a and b, using tests we know about: and, or, and not.\n",
    "\n",
    "Test code for all four possible combos of a + b"
   ]
  },
  {
   "cell_type": "code",
   "execution_count": 6,
   "id": "0cd950b9-8b49-4588-aba1-05a1f8bfafd5",
   "metadata": {
    "tags": []
   },
   "outputs": [
    {
     "name": "stdout",
     "output_type": "stream",
     "text": [
      "{(True, True): False, (True, False): False, (False, True): False, (False, False): False}\n"
     ]
    }
   ],
   "source": [
    "def coolxorthing(a, b):\n",
    "    return (a or b) and not (a and b)\n",
    "\n",
    "test = {}\n",
    "combo = [(True, True), (True, False), (False, True), (False, False)]\n",
    "\n",
    "for i in combo:\n",
    "    test[i] = coolxorthing(combo[0], combo[1])\n",
    "    \n",
    "print(test)"
   ]
  },
  {
   "cell_type": "markdown",
   "id": "912d6e9d-c796-48ae-b533-3928f6973bbe",
   "metadata": {},
   "source": [
    "# 1. Age Category:\n",
    "\n",
    "Make code that:\n",
    "\n",
    "a). asks user to input age\n",
    "b). based on age, classify them into one of following categories:\n",
    "\n",
    "Infant (0-2 years)\\\n",
    "Child (3-12 years)\\\n",
    "Teenager (13-19 years)\\\n",
    "Adult (20-64 years)\\\n",
    "Senior (65+ years)\n",
    "\n",
    "*if-elif-else struct is helpful*"
   ]
  },
  {
   "cell_type": "code",
   "execution_count": 13,
   "id": "adaffacd-ff6c-44da-965a-32102616a304",
   "metadata": {
    "tags": []
   },
   "outputs": [
    {
     "name": "stdin",
     "output_type": "stream",
     "text": [
      "Please enter age of user:  1\n"
     ]
    },
    {
     "name": "stdout",
     "output_type": "stream",
     "text": [
      "Infant, wow your so small!\n"
     ]
    }
   ],
   "source": [
    "age = int(input(\"Please enter age of user: \"))\n",
    "\n",
    "if 0 <= age <= 2:\n",
    "    print(\"Infant, wow your so small!\")\n",
    "elif 3 <= age <= 12:\n",
    "    print(\"Child, do you like books?\")\n",
    "elif 13 <= age <= 19:\n",
    "    print(\"Teenager, they get moody\")\n",
    "elif 20 <= age <= 64:\n",
    "    print(\"Adult, now your big and sad\")\n",
    "else:\n",
    "    print(\"Senior, your getting old :(\")"
   ]
  },
  {
   "cell_type": "markdown",
   "id": "9fefb312-0fbe-44b2-af8c-4f07d3f3c21a",
   "metadata": {},
   "source": [
    "# 2. Number Classifier:\n",
    "\n",
    "ask user to input an int, write program to:\n",
    "\n",
    "a). check if int is +, -, or 0\n",
    "b). check if int is even or odd\n",
    "\n",
    "Sample out -> `\"Your number, 42, is positive and even.\"`"
   ]
  },
  {
   "cell_type": "code",
   "execution_count": 8,
   "id": "76546eaf-8899-4ee1-a1bc-8cc6b606794f",
   "metadata": {},
   "outputs": [
    {
     "name": "stdin",
     "output_type": "stream",
     "text": [
      "give me a cool number doc 12\n"
     ]
    },
    {
     "name": "stdout",
     "output_type": "stream",
     "text": [
      "Your number, 12, is positive and even\n"
     ]
    }
   ],
   "source": [
    "askinput = int(input(\"give me a cool number doc\"))\n",
    "               \n",
    "if askinput < 0:\n",
    "    posneg = \"negative\"\n",
    "elif askinput > 0:\n",
    "    posneg = \"positive\"\n",
    "\n",
    "if askinput % 2 == 0:\n",
    "    evod = \"even\"\n",
    "else:\n",
    "    evod = \"odd\"\n",
    "\n",
    "result = f\"Your number, {askinput}, is {posneg} and {evod}\"\n",
    "print(result)"
   ]
  },
  {
   "cell_type": "markdown",
   "id": "af84b3ca-3ec2-4bc9-a156-d08efca99c19",
   "metadata": {},
   "source": [
    "# 3. Simple calculator:\n",
    "Design calc that perform addition, subtraction, multiplication, and division.\\\n",
    "a). ask user to input two int\\\n",
    "b). ask user to select an operation\\\n",
    "c). perform selected operation on the two int + display result\\\n",
    "Make sure to handle invalid operations w/ error msg"
   ]
  },
  {
   "cell_type": "code",
   "execution_count": 13,
   "id": "9128529c-fd8c-4d90-ab54-66b34da800e0",
   "metadata": {
    "tags": []
   },
   "outputs": [
    {
     "name": "stdin",
     "output_type": "stream",
     "text": [
      "give first number 6\n",
      "give second number 2\n",
      "+, -, /, * *\n"
     ]
    },
    {
     "name": "stdout",
     "output_type": "stream",
     "text": [
      "12\n"
     ]
    }
   ],
   "source": [
    "num1 = int(input(\"give first number\"))\n",
    "num2 = int(input(\"give second number\"))\n",
    "operation = input(\"+, -, /, *\")\n",
    "\n",
    "if operation == \"+\":\n",
    "    print(num1 + num2)\n",
    "elif operation == \"-\":\n",
    "    print(num1 - num2)\n",
    "elif operation == \"*\":\n",
    "    print(num1*num2)\n",
    "elif operation == \"/\":\n",
    "    if num2 == 0 :\n",
    "        print(\"error, can't divide by zero\")\n",
    "    else:\n",
    "        print(num1/num2)"
   ]
  },
  {
   "cell_type": "markdown",
   "id": "18c59f4e-c0e6-48fe-a7f1-d4c967110b54",
   "metadata": {},
   "source": [
    "# 4. Guessing Game:\n",
    "a). program should produce random answer between 1 - 10\\\n",
    "\n",
    "`- use import random (we only have to do this once, at the top of the program)`\\\n",
    "`- then answer = random.randint() to get the random answer`\n",
    "\n",
    "b). Ask user to guess number\\\n",
    "c). provide hints like \"too high\" or \"too low\" based on user's guess\\\n",
    "d). user should have max # of attempts\\\n",
    "e). after max numer of incorrect attempts **or** if the user guesses correctly, reveal correct number"
   ]
  },
  {
   "cell_type": "code",
   "execution_count": 18,
   "id": "fbc5aae3-1c01-4f11-b483-7d1c645776a4",
   "metadata": {
    "tags": []
   },
   "outputs": [
    {
     "name": "stdin",
     "output_type": "stream",
     "text": [
      "guess the number between 1 and 10: 2\n"
     ]
    },
    {
     "name": "stdout",
     "output_type": "stream",
     "text": [
      "your too low dawg\n"
     ]
    },
    {
     "name": "stdin",
     "output_type": "stream",
     "text": [
      "guess the number between 1 and 10: 6\n"
     ]
    },
    {
     "name": "stdout",
     "output_type": "stream",
     "text": [
      "your too low dawg\n"
     ]
    },
    {
     "name": "stdin",
     "output_type": "stream",
     "text": [
      "guess the number between 1 and 10: 8\n"
     ]
    },
    {
     "name": "stdout",
     "output_type": "stream",
     "text": [
      "too high, smoking the pot\n"
     ]
    },
    {
     "name": "stdin",
     "output_type": "stream",
     "text": [
      "guess the number between 1 and 10: 7\n"
     ]
    },
    {
     "name": "stdout",
     "output_type": "stream",
     "text": [
      "your right, thats cool yo\n"
     ]
    }
   ],
   "source": [
    "import random\n",
    "\n",
    "answer = random.randint(1,10)\n",
    "attempts = 0\n",
    "max_attempts = 5\n",
    "\n",
    "while attempts < max_attempts:\n",
    "    guess = int(input(\"guess the number between 1 and 10:\"))\n",
    "    attempts += 1\n",
    "    \n",
    "    if guess == answer:\n",
    "        print(\"your right, thats cool yo\")\n",
    "        break\n",
    "    elif guess < answer:\n",
    "        print(\"your too low dawg\")\n",
    "    else:\n",
    "        print(\"too high, smoking the pot\")\n",
    "    if attempts == max_attempts:\n",
    "        print(f\"sorry, you reach max score, correct number was {answer}\")\n",
    "    "
   ]
  },
  {
   "cell_type": "markdown",
   "id": "b3e68901-8b50-4116-b7c7-ba889db53a00",
   "metadata": {},
   "source": [
    "# 5. Counter Contrast:\n",
    "\n",
    "write two versions of a program the asks the users for positive int `n` + prints the numbers from 1 up to `n`\n",
    "\n",
    "- a. First use a `for` loop"
   ]
  },
  {
   "cell_type": "code",
   "execution_count": 21,
   "id": "bf0d485b-acdc-409b-8c5e-8c3ad4b707bc",
   "metadata": {
    "tags": []
   },
   "outputs": [
    {
     "name": "stdin",
     "output_type": "stream",
     "text": [
      "enter positive int:  5\n"
     ]
    },
    {
     "name": "stdout",
     "output_type": "stream",
     "text": [
      "1\n",
      "2\n",
      "3\n",
      "4\n",
      "5\n"
     ]
    }
   ],
   "source": [
    "n = int(input(\"enter positive int: \"))\n",
    "\n",
    "for i in range (1, n+1):\n",
    "    print(i)"
   ]
  },
  {
   "cell_type": "markdown",
   "id": "68323013-c540-4406-a8a4-6f08509ed45c",
   "metadata": {},
   "source": [
    "- b. Next use a `while` loop"
   ]
  },
  {
   "cell_type": "code",
   "execution_count": 22,
   "id": "acf41ffe-a19a-4793-94cb-4c5e2ec27b84",
   "metadata": {
    "tags": []
   },
   "outputs": [
    {
     "name": "stdin",
     "output_type": "stream",
     "text": [
      "enter positive int:  2\n"
     ]
    },
    {
     "name": "stdout",
     "output_type": "stream",
     "text": [
      "1\n",
      "2\n"
     ]
    }
   ],
   "source": [
    "n = int(input(\"enter positive int: \"))\n",
    "\n",
    "count = 1\n",
    "while count <= n:\n",
    "    print(count)\n",
    "    count += 1"
   ]
  },
  {
   "cell_type": "markdown",
   "id": "7afe728d-9afb-4cc9-a265-663cf902d58e",
   "metadata": {
    "tags": []
   },
   "source": [
    "Which loop struct is preferable + why?"
   ]
  },
  {
   "cell_type": "markdown",
   "id": "a32b4e28-355d-4101-813c-9122e5f78d93",
   "metadata": {},
   "source": [
    "given that we don't know what input the user will give, the while loop seems more practically. Moreover, the while loop is more readable compared to the for loo"
   ]
  },
  {
   "cell_type": "code",
   "execution_count": null,
   "id": "f9633a9e-72e1-432f-a6b8-01c5af839548",
   "metadata": {},
   "outputs": [],
   "source": []
  }
 ],
 "metadata": {
  "kernelspec": {
   "display_name": "Python 3 (ipykernel)",
   "language": "python",
   "name": "python3"
  },
  "language_info": {
   "codemirror_mode": {
    "name": "ipython",
    "version": 3
   },
   "file_extension": ".py",
   "mimetype": "text/x-python",
   "name": "python",
   "nbconvert_exporter": "python",
   "pygments_lexer": "ipython3",
   "version": "3.11.4"
  }
 },
 "nbformat": 4,
 "nbformat_minor": 5
}
