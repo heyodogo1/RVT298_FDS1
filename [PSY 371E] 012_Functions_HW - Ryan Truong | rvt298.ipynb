{
 "cells": [
  {
   "cell_type": "markdown",
   "id": "5dcf4002",
   "metadata": {},
   "source": [
    "## 1. Function Design for Unit Conversions:"
   ]
  },
  {
   "cell_type": "markdown",
   "id": "b4a66669",
   "metadata": {},
   "source": [
    "### 1.1 design + implement func for following conversion:\n",
    "- Miles -> Kilometer, vice versa\n",
    "- Fahrenhiet -> Celsius, \" \" \n",
    "- Kilograms -> Pounds, \" \"\n",
    "    - each conversion should be a func\n",
    "    - Each func should return, not just print"
   ]
  },
  {
   "cell_type": "code",
   "execution_count": 5,
   "id": "7cb2c9cc",
   "metadata": {},
   "outputs": [],
   "source": [
    "def miles_to_km(miles):\n",
    "    return miles * 1.60934\n",
    "def km_to_miles(km):\n",
    "    return km/1.60934\n",
    "def fahrenheit_to_celsius(fahrenheit):\n",
    "    return (fahrenheit-32)*(5/9)\n",
    "def celsius_to_fahrenhiet(celsius):\n",
    "    return (celsius * (9/5)) + 32\n",
    "def kg_to_pounds(kg):\n",
    "    return kg * 2.2046\n",
    "def pounds_to_kg(pounds):\n",
    "    return pounds/2.2046\n"
   ]
  },
  {
   "cell_type": "code",
   "execution_count": 6,
   "id": "b49c92cb-76e9-4da4-b1df-5cfa5ec752fc",
   "metadata": {
    "tags": []
   },
   "outputs": [
    {
     "name": "stdout",
     "output_type": "stream",
     "text": [
      "96.5604\n",
      "21.11111111111111\n"
     ]
    }
   ],
   "source": [
    "print(miles_to_km(60))\n",
    "print(fahrenheit_to_celsius(70))"
   ]
  },
  {
   "cell_type": "markdown",
   "id": "1d3f7e7a",
   "metadata": {},
   "source": [
    "## 2. Module Creation"
   ]
  },
  {
   "cell_type": "markdown",
   "id": "066a1f80",
   "metadata": {},
   "source": [
    "### 2.1 \n",
    "- Organize all conversion func into a python module named unit_conversions.py"
   ]
  },
  {
   "cell_type": "code",
   "execution_count": null,
   "id": "5fe52dba",
   "metadata": {},
   "outputs": [],
   "source": [
    "done that!"
   ]
  },
  {
   "cell_type": "markdown",
   "id": "b213188e",
   "metadata": {},
   "source": [
    "### 2.2 \n",
    "- In separate script, import module + use each func in module"
   ]
  },
  {
   "cell_type": "code",
   "execution_count": 9,
   "id": "0b88d73f",
   "metadata": {},
   "outputs": [
    {
     "name": "stdout",
     "output_type": "stream",
     "text": [
      "123.91918\n",
      "47.84570072203512\n",
      "25.0\n",
      "170.6\n",
      "169.7542\n",
      "34.92697087907103\n"
     ]
    }
   ],
   "source": [
    "import unit_conversions\n",
    "print(miles_to_km(77))\n",
    "print(km_to_miles(77))\n",
    "print(fahrenheit_to_celsius(77))\n",
    "print(celsius_to_fahrenhiet(77))\n",
    "print(kg_to_pounds(77))\n",
    "print(pounds_to_kg(77))"
   ]
  },
  {
   "cell_type": "markdown",
   "id": "4c77d27d",
   "metadata": {},
   "source": [
    "## 3. Namespaces"
   ]
  },
  {
   "cell_type": "markdown",
   "id": "f381d1dd",
   "metadata": {},
   "source": [
    "### 3.1\n",
    "- Make module \"mylen.py\"\n",
    "    - add func \"len\" to module\n",
    "    - function return int \"42\" no matter what"
   ]
  },
  {
   "cell_type": "code",
   "execution_count": null,
   "id": "83bed981",
   "metadata": {},
   "outputs": [],
   "source": [
    "did that!"
   ]
  },
  {
   "cell_type": "markdown",
   "id": "f73fa5f6",
   "metadata": {},
   "source": [
    "### 3.2\n",
    "- Create list w/ some elements (can be anything)\n",
    "- try len(mylist) prior\n",
    "- import mylen.py (import mylen)\n",
    "    - verify that it works w/ mylen.len()\n",
    "- input (from mylen import len)\n",
    "- repeat (len(mylist))"
   ]
  },
  {
   "cell_type": "code",
   "execution_count": 2,
   "id": "d0626c6d",
   "metadata": {},
   "outputs": [
    {
     "data": {
      "text/plain": [
       "42"
      ]
     },
     "execution_count": 2,
     "metadata": {},
     "output_type": "execute_result"
    }
   ],
   "source": [
    "mylist = [1, 2, 3, 4, 5]\n",
    "len(mylist)"
   ]
  },
  {
   "cell_type": "code",
   "execution_count": 11,
   "id": "816f1c95-cbaf-4eef-ba40-6d1399d74a49",
   "metadata": {
    "tags": []
   },
   "outputs": [
    {
     "data": {
      "text/plain": [
       "42"
      ]
     },
     "execution_count": 11,
     "metadata": {},
     "output_type": "execute_result"
    }
   ],
   "source": [
    "import mylen\n",
    "mylen.len()"
   ]
  },
  {
   "cell_type": "code",
   "execution_count": 12,
   "id": "221fecd0-5656-4e60-b475-f5ceb6576899",
   "metadata": {
    "tags": []
   },
   "outputs": [
    {
     "ename": "TypeError",
     "evalue": "len() takes 0 positional arguments but 1 was given",
     "output_type": "error",
     "traceback": [
      "\u001b[0;31m---------------------------------------------------------------------------\u001b[0m",
      "\u001b[0;31mTypeError\u001b[0m                                 Traceback (most recent call last)",
      "Cell \u001b[0;32mIn[12], line 2\u001b[0m\n\u001b[1;32m      1\u001b[0m \u001b[38;5;28;01mfrom\u001b[39;00m \u001b[38;5;21;01mmylen\u001b[39;00m \u001b[38;5;28;01mimport\u001b[39;00m \u001b[38;5;28mlen\u001b[39m\n\u001b[0;32m----> 2\u001b[0m \u001b[38;5;28mlen\u001b[39m(mylist)\n",
      "\u001b[0;31mTypeError\u001b[0m: len() takes 0 positional arguments but 1 was given"
     ]
    }
   ],
   "source": [
    "from mylen import len\n",
    "len(mylist)"
   ]
  },
  {
   "cell_type": "markdown",
   "id": "d3df5538-94aa-49d6-914f-d75de27040fa",
   "metadata": {},
   "source": [
    "crap, gotta fix that"
   ]
  },
  {
   "cell_type": "code",
   "execution_count": 13,
   "id": "852385b3-a828-4361-9e44-80c3e0afe5c9",
   "metadata": {
    "tags": []
   },
   "outputs": [
    {
     "ename": "TypeError",
     "evalue": "len() takes 0 positional arguments but 1 was given",
     "output_type": "error",
     "traceback": [
      "\u001b[0;31m---------------------------------------------------------------------------\u001b[0m",
      "\u001b[0;31mTypeError\u001b[0m                                 Traceback (most recent call last)",
      "Cell \u001b[0;32mIn[13], line 2\u001b[0m\n\u001b[1;32m      1\u001b[0m \u001b[38;5;28;01mfrom\u001b[39;00m \u001b[38;5;21;01mmylen\u001b[39;00m \u001b[38;5;28;01mimport\u001b[39;00m \u001b[38;5;28mlen\u001b[39m\n\u001b[0;32m----> 2\u001b[0m \u001b[38;5;28mlen\u001b[39m(mylist)\n",
      "\u001b[0;31mTypeError\u001b[0m: len() takes 0 positional arguments but 1 was given"
     ]
    }
   ],
   "source": [
    "from mylen import len\n",
    "len(mylist)\n"
   ]
  },
  {
   "cell_type": "code",
   "execution_count": 14,
   "id": "1b9b3d97-871b-4a02-96fe-1f01b4e46de0",
   "metadata": {
    "tags": []
   },
   "outputs": [
    {
     "ename": "TypeError",
     "evalue": "len() takes 0 positional arguments but 1 was given",
     "output_type": "error",
     "traceback": [
      "\u001b[0;31m---------------------------------------------------------------------------\u001b[0m",
      "\u001b[0;31mTypeError\u001b[0m                                 Traceback (most recent call last)",
      "Cell \u001b[0;32mIn[14], line 3\u001b[0m\n\u001b[1;32m      1\u001b[0m \u001b[38;5;28;01mimport\u001b[39;00m \u001b[38;5;21;01mmylen\u001b[39;00m\n\u001b[1;32m      2\u001b[0m \u001b[38;5;28;01mfrom\u001b[39;00m \u001b[38;5;21;01mmylen\u001b[39;00m \u001b[38;5;28;01mimport\u001b[39;00m \u001b[38;5;28mlen\u001b[39m\n\u001b[0;32m----> 3\u001b[0m \u001b[38;5;28mlen\u001b[39m(mylist)\n",
      "\u001b[0;31mTypeError\u001b[0m: len() takes 0 positional arguments but 1 was given"
     ]
    }
   ],
   "source": [
    "import mylen\n",
    "from mylen import len\n",
    "len(mylist)\n"
   ]
  },
  {
   "cell_type": "code",
   "execution_count": 15,
   "id": "cf59d196-6a95-438b-8eae-7cb08b82af93",
   "metadata": {
    "tags": []
   },
   "outputs": [
    {
     "ename": "TypeError",
     "evalue": "len() takes 0 positional arguments but 1 was given",
     "output_type": "error",
     "traceback": [
      "\u001b[0;31m---------------------------------------------------------------------------\u001b[0m",
      "\u001b[0;31mTypeError\u001b[0m                                 Traceback (most recent call last)",
      "Cell \u001b[0;32mIn[15], line 3\u001b[0m\n\u001b[1;32m      1\u001b[0m \u001b[38;5;28;01mimport\u001b[39;00m \u001b[38;5;21;01mmylen\u001b[39;00m\n\u001b[1;32m      2\u001b[0m \u001b[38;5;28;01mfrom\u001b[39;00m \u001b[38;5;21;01mmylen\u001b[39;00m \u001b[38;5;28;01mimport\u001b[39;00m \u001b[38;5;28mlen\u001b[39m\n\u001b[0;32m----> 3\u001b[0m \u001b[38;5;28mlen\u001b[39m(mylist)\n",
      "\u001b[0;31mTypeError\u001b[0m: len() takes 0 positional arguments but 1 was given"
     ]
    }
   ],
   "source": [
    "import mylen\n",
    "from mylen import len\n",
    "len(mylist)"
   ]
  },
  {
   "cell_type": "code",
   "execution_count": 16,
   "id": "6946c7be-3b7c-4b6c-b408-17f2b39c1d6a",
   "metadata": {
    "tags": []
   },
   "outputs": [
    {
     "ename": "TypeError",
     "evalue": "len() takes 0 positional arguments but 1 was given",
     "output_type": "error",
     "traceback": [
      "\u001b[0;31m---------------------------------------------------------------------------\u001b[0m",
      "\u001b[0;31mTypeError\u001b[0m                                 Traceback (most recent call last)",
      "Cell \u001b[0;32mIn[16], line 1\u001b[0m\n\u001b[0;32m----> 1\u001b[0m \u001b[38;5;28mlen\u001b[39m(mylist)\n",
      "\u001b[0;31mTypeError\u001b[0m: len() takes 0 positional arguments but 1 was given"
     ]
    }
   ],
   "source": [
    "len(mylist)"
   ]
  },
  {
   "cell_type": "code",
   "execution_count": 17,
   "id": "5c008d0f-94f8-4455-aef2-f6490d792091",
   "metadata": {
    "tags": []
   },
   "outputs": [
    {
     "data": {
      "text/plain": [
       "42"
      ]
     },
     "execution_count": 17,
     "metadata": {},
     "output_type": "execute_result"
    }
   ],
   "source": [
    "len()"
   ]
  },
  {
   "cell_type": "code",
   "execution_count": 3,
   "id": "39803a38-25e0-455e-b9e0-59fa58518a76",
   "metadata": {
    "tags": []
   },
   "outputs": [
    {
     "data": {
      "text/plain": [
       "42"
      ]
     },
     "execution_count": 3,
     "metadata": {},
     "output_type": "execute_result"
    }
   ],
   "source": [
    "import mylen\n",
    "from mylen import len\n",
    "len(mylist)"
   ]
  },
  {
   "cell_type": "markdown",
   "id": "71366e69-128e-4b46-9821-a591f0dd854c",
   "metadata": {},
   "source": [
    "when you import, it works, when u don't import, then it doesn't work. Thats how it goes yo!"
   ]
  },
  {
   "cell_type": "code",
   "execution_count": null,
   "id": "e0266d45-554e-4c45-9939-5254dd6c76ae",
   "metadata": {},
   "outputs": [],
   "source": []
  }
 ],
 "metadata": {
  "kernelspec": {
   "display_name": "Python 3 (ipykernel)",
   "language": "python",
   "name": "python3"
  },
  "language_info": {
   "codemirror_mode": {
    "name": "ipython",
    "version": 3
   },
   "file_extension": ".py",
   "mimetype": "text/x-python",
   "name": "python",
   "nbconvert_exporter": "python",
   "pygments_lexer": "ipython3",
   "version": "3.11.4"
  }
 },
 "nbformat": 4,
 "nbformat_minor": 5
}
