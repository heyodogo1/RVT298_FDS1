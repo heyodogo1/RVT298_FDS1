{
 "cells": [
  {
   "cell_type": "markdown",
   "id": "488059cf",
   "metadata": {},
   "source": [
    "# Part 1: for loops w/ list + range()\n",
    "### 1. Lists:\n",
    "a. Write program that takes list of numbers + prints each number *2"
   ]
  },
  {
   "cell_type": "code",
   "execution_count": 2,
   "id": "fd2d2ee4-5d68-4d40-9424-970907b36864",
   "metadata": {
    "tags": []
   },
   "outputs": [
    {
     "name": "stdout",
     "output_type": "stream",
     "text": [
      "2\n",
      "4\n",
      "6\n",
      "8\n",
      "10\n"
     ]
    }
   ],
   "source": [
    "coollist = [1,2,3,4,5]\n",
    "for i in coollist:\n",
    "    print(2*i)"
   ]
  },
  {
   "cell_type": "markdown",
   "id": "9f9b35c1",
   "metadata": {},
   "source": [
    "b. Given list of strings, write program that prints out elements of string in reverse order **w/o reversing list itself**"
   ]
  },
  {
   "cell_type": "code",
   "execution_count": 22,
   "id": "f2c67332-31c4-42ed-ba44-ca6df44b2571",
   "metadata": {
    "tags": []
   },
   "outputs": [
    {
     "name": "stdout",
     "output_type": "stream",
     "text": [
      "cool\n",
      "really\n",
      "is\n",
      "truong\n",
      "ryan\n"
     ]
    }
   ],
   "source": [
    "coolstringlist = ['ryan', 'truong', 'is', 'really', 'cool']\n",
    "for i in reversed(coolstringlist):\n",
    "    print(i)"
   ]
  },
  {
   "cell_type": "markdown",
   "id": "85ca4622",
   "metadata": {},
   "source": [
    "### 2. Using the range() func\n",
    "a. Write code that uses for loop + range() func to print int(0-9)"
   ]
  },
  {
   "cell_type": "code",
   "execution_count": 25,
   "id": "f2055e26-c083-4ff6-bc37-8b3a6865c4eb",
   "metadata": {
    "tags": []
   },
   "outputs": [
    {
     "name": "stdout",
     "output_type": "stream",
     "text": [
      "0\n",
      "1\n",
      "2\n",
      "3\n",
      "4\n",
      "5\n",
      "6\n",
      "7\n",
      "8\n",
      "9\n"
     ]
    }
   ],
   "source": [
    "for i in range(10):\n",
    "    print(i)"
   ]
  },
  {
   "cell_type": "markdown",
   "id": "f5d239b2",
   "metadata": {},
   "source": [
    "b. Use range() func to p int(5-15)"
   ]
  },
  {
   "cell_type": "code",
   "execution_count": 28,
   "id": "ad898110-005b-4830-be56-73fb48b66efe",
   "metadata": {
    "tags": []
   },
   "outputs": [
    {
     "name": "stdout",
     "output_type": "stream",
     "text": [
      "5\n",
      "6\n",
      "7\n",
      "8\n",
      "9\n",
      "10\n",
      "11\n",
      "12\n",
      "13\n",
      "14\n",
      "15\n"
     ]
    }
   ],
   "source": [
    "for i in range(5,16):\n",
    "    print(i)"
   ]
  },
  {
   "cell_type": "markdown",
   "id": "c0d77b64",
   "metadata": {},
   "source": [
    "c. create program that p first 10 even int, use range()"
   ]
  },
  {
   "cell_type": "code",
   "execution_count": 32,
   "id": "a82b49b4-ca83-4dff-a1f6-f85b362c8016",
   "metadata": {
    "tags": []
   },
   "outputs": [
    {
     "name": "stdout",
     "output_type": "stream",
     "text": [
      "0\n",
      "2\n",
      "4\n",
      "6\n",
      "8\n",
      "10\n",
      "12\n",
      "14\n",
      "16\n",
      "18\n"
     ]
    }
   ],
   "source": [
    "for i in range(0, 20, 2):\n",
    "    print(i)"
   ]
  },
  {
   "cell_type": "markdown",
   "id": "967d58cf",
   "metadata": {},
   "source": [
    "# Part 2: Dictionaries + Loops\n"
   ]
  },
  {
   "cell_type": "markdown",
   "id": "7d7ac3ab",
   "metadata": {},
   "source": [
    "a. Create dict where keys = student names & values = favorite colors\n",
    "\n",
    "a(1). write a program that prints out each students name w/ their fav color"
   ]
  },
  {
   "cell_type": "code",
   "execution_count": 35,
   "id": "431ee621-8863-4086-bfae-1baf6177043b",
   "metadata": {
    "tags": []
   },
   "outputs": [],
   "source": [
    "cooldict = {\"Ryan\":\"Black\",\n",
    "            \"Ellie\":\"Pink\",\n",
    "            \"Ben\":\"Blue\",\n",
    "            \"Raiyyan\":\"Green\",\n",
    "            \"Satvik\":\"Orange\",\n",
    "            \"Sha\":\"Yellow\"}"
   ]
  },
  {
   "cell_type": "code",
   "execution_count": 54,
   "id": "1a644592-fda1-4030-900f-a69ebb3b73e3",
   "metadata": {
    "tags": []
   },
   "outputs": [
    {
     "name": "stdout",
     "output_type": "stream",
     "text": [
      "Ryan 's favorite color is Black\n",
      "Ellie 's favorite color is Pink\n",
      "Ben 's favorite color is Blue\n",
      "Raiyyan 's favorite color is Green\n",
      "Satvik 's favorite color is Orange\n",
      "Sha 's favorite color is Yellow\n"
     ]
    }
   ],
   "source": [
    "for i in cooldict:\n",
    "    print(i,\"'s favorite color is\", (cooldict[i]))"
   ]
  },
  {
   "cell_type": "markdown",
   "id": "7961611b",
   "metadata": {},
   "source": [
    "b. Given dict w/ product names = keys, quantities = values, write program that **doubles** quantity of each product + p's updated quantites"
   ]
  },
  {
   "cell_type": "code",
   "execution_count": 3,
   "id": "462ec0c3-d8b9-47a0-840d-835780c7b510",
   "metadata": {},
   "outputs": [],
   "source": [
    "newcooldict = {\"Orcane\": 2,\n",
    "               \"Zetterburn\": 6,\n",
    "               \"Wrastor\": 1,\n",
    "               \"Ranno\": 5,\n",
    "               \"Etalus\": 9}"
   ]
  },
  {
   "cell_type": "code",
   "execution_count": 5,
   "id": "681535ec-286c-45f9-a098-6e390a83c8b3",
   "metadata": {
    "tags": []
   },
   "outputs": [
    {
     "name": "stdout",
     "output_type": "stream",
     "text": [
      "Orcane now has 4\n",
      "Zetterburn now has 12\n",
      "Wrastor now has 2\n",
      "Ranno now has 10\n",
      "Etalus now has 18\n"
     ]
    }
   ],
   "source": [
    "for i in newcooldict:\n",
    "    abc = 2 * newcooldict[i]\n",
    "    print(i,\"now has\", abc)"
   ]
  },
  {
   "cell_type": "markdown",
   "id": "a9a2ac74",
   "metadata": {},
   "source": [
    "# Part 3: Storing Results of a For Loop in New List & List Comprehensions\n"
   ]
  },
  {
   "cell_type": "markdown",
   "id": "fa05a842",
   "metadata": {},
   "source": [
    "### 1. not using list comprehension\n",
    "a. Write program -> takes list of int + creates new lst w/ each int *2"
   ]
  },
  {
   "cell_type": "code",
   "execution_count": 8,
   "id": "8aeb491e-70f6-4585-b2bf-d7e5bd74d0f6",
   "metadata": {},
   "outputs": [
    {
     "name": "stdout",
     "output_type": "stream",
     "text": [
      "2\n",
      "4\n",
      "6\n",
      "8\n",
      "10\n",
      "12\n",
      "14\n"
     ]
    }
   ],
   "source": [
    "coolintlist = [1, 2, 3, 4, 5, 6, 7]\n",
    "for i in coolintlist:\n",
    "    rvt = i * 2\n",
    "    print(rvt)\n",
    "    "
   ]
  },
  {
   "cell_type": "markdown",
   "id": "fc4db416",
   "metadata": {},
   "source": [
    "b. Given lst of \"str\"s, create new lst that contains first letter of each word."
   ]
  },
  {
   "cell_type": "code",
   "execution_count": 31,
   "id": "18aeeb4e-1e95-4b51-8375-1aff68008ace",
   "metadata": {},
   "outputs": [
    {
     "name": "stdout",
     "output_type": "stream",
     "text": [
      "['p', 'c', 'd', 'h', 'm']\n"
     ]
    }
   ],
   "source": [
    "listofstr = ['pog', 'champ', 'dog', 'horse', 'man']\n",
    "\n",
    "firstletter = []\n",
    "for i in listofstr:\n",
    "    firstletter.append(i[0])\n",
    "    \n",
    "print(firstletter)"
   ]
  },
  {
   "cell_type": "markdown",
   "id": "ec9c0e25",
   "metadata": {},
   "source": [
    "### 2. using list comp\n",
    "c. use list comp to comppute + save square roots of lst of int(1-10)"
   ]
  },
  {
   "cell_type": "code",
   "execution_count": 32,
   "id": "90543b49-7ed7-4909-a1cc-7071fa4794f0",
   "metadata": {},
   "outputs": [
    {
     "name": "stdout",
     "output_type": "stream",
     "text": [
      "[1.0, 1.4142135623730951, 1.7320508075688772, 2.0, 2.23606797749979, 2.449489742783178, 2.6457513110645907, 2.8284271247461903, 3.0, 3.1622776601683795]\n"
     ]
    }
   ],
   "source": [
    "intlist = [1, 2, 3, 4, 5, 6, 7, 8, 9, 10]\n",
    "squrlst = [i ** .5 for i in intlist]\n",
    "print(squrlst)"
   ]
  },
  {
   "cell_type": "markdown",
   "id": "68f9aee3",
   "metadata": {},
   "source": [
    "d. given lst of strs, use list comp to create new lst containg last letter of each str"
   ]
  },
  {
   "cell_type": "code",
   "execution_count": 34,
   "id": "c228365a-8235-4756-8be4-c2be200a799e",
   "metadata": {},
   "outputs": [
    {
     "name": "stdout",
     "output_type": "stream",
     "text": [
      "['g', 'g', 'g', 'g', 'g']\n"
     ]
    }
   ],
   "source": [
    "lststr = ['swag', 'bag', 'lag', 'rag', 'tag']\n",
    "lstletter = [i[-1] for i in lststr]\n",
    "print(lstletter)"
   ]
  },
  {
   "cell_type": "markdown",
   "id": "5189d7e1",
   "metadata": {},
   "source": [
    "# Part 4: nested loops"
   ]
  },
  {
   "cell_type": "markdown",
   "id": "c14a1e5c",
   "metadata": {},
   "source": [
    "a. write code to \"flatten\" the following lst of lst of lst:"
   ]
  },
  {
   "cell_type": "code",
   "execution_count": 43,
   "id": "59b548a4",
   "metadata": {},
   "outputs": [],
   "source": [
    "deep_list = [[[1, 2, 3, 4], [5, 6, 7, 8]],\n",
    "            [[9, 10, 11, 12], [13, 14, 15, 16]],\n",
    "            [[17, 18, 19, 20], [21, 22, 23, 42]]]"
   ]
  },
  {
   "cell_type": "code",
   "execution_count": 45,
   "id": "86f14c51-411d-48a5-9754-3c7f8296d0fa",
   "metadata": {},
   "outputs": [
    {
     "name": "stdout",
     "output_type": "stream",
     "text": [
      "[1, 2, 3, 4, 5, 6, 7, 8, 9, 10, 11, 12, 13, 14, 15, 16, 17, 18, 19, 20, 21, 22, 23, 42]\n"
     ]
    }
   ],
   "source": [
    "flat_stanley = []\n",
    "\n",
    "for i in deep_list:\n",
    "    for j in i:\n",
    "        for b in j:\n",
    "            flat_stanley.append(b)\n",
    "            \n",
    "print(flat_stanley)"
   ]
  },
  {
   "cell_type": "markdown",
   "id": "9c287480",
   "metadata": {},
   "source": [
    "b. write code that, given a lst of strings like this:"
   ]
  },
  {
   "cell_type": "code",
   "execution_count": 48,
   "id": "ca9307cf",
   "metadata": {},
   "outputs": [],
   "source": [
    "myStrLst = [\"able\", \"was\", \"I\", \"ere\", \"I\", \"saw\", \"elba\"]"
   ]
  },
  {
   "cell_type": "code",
   "execution_count": 50,
   "id": "43e0ecae-b166-4198-bfa3-3fd364bc45dc",
   "metadata": {},
   "outputs": [
    {
     "name": "stdout",
     "output_type": "stream",
     "text": [
      "['able', 'was', 'I', 'ere', 'I', 'saw', 'elba']\n"
     ]
    }
   ],
   "source": [
    "reversed_lst = [i[::-1] for i in myStrLst[::-1]]\n",
    "print(reversed_lst)"
   ]
  },
  {
   "cell_type": "markdown",
   "id": "4a82d5f5",
   "metadata": {},
   "source": [
    "reverse **BOTH** the order of strs in lst **AND** order of the letters in each string"
   ]
  }
 ],
 "metadata": {
  "kernelspec": {
   "display_name": "Python 3 (ipykernel)",
   "language": "python",
   "name": "python3"
  },
  "language_info": {
   "codemirror_mode": {
    "name": "ipython",
    "version": 3
   },
   "file_extension": ".py",
   "mimetype": "text/x-python",
   "name": "python",
   "nbconvert_exporter": "python",
   "pygments_lexer": "ipython3",
   "version": "3.11.4"
  }
 },
 "nbformat": 4,
 "nbformat_minor": 5
}
