{
 "cells": [
  {
   "cell_type": "markdown",
   "id": "03719c3d-2000-46ff-bf16-3df8e981fe98",
   "metadata": {},
   "source": [
    "# 1. Create a series:\n",
    "- Create a Series named 'fruits' with the data: apple, banana, cherry, date, and assign it an index of a, b, c, d respectively. \n",
    "- print the series\n",
    "- print the 'index' of the series."
   ]
  },
  {
   "cell_type": "code",
   "execution_count": 2,
   "id": "1d2b69f2-085d-4e4d-a841-e7961e8aadcc",
   "metadata": {
    "tags": []
   },
   "outputs": [
    {
     "name": "stdout",
     "output_type": "stream",
     "text": [
      "a     apple\n",
      "b    banana\n",
      "c    cherry\n",
      "d      date\n",
      "dtype: object Index(['a', 'b', 'c', 'd'], dtype='object')\n"
     ]
    }
   ],
   "source": [
    "import pandas as pd\n",
    "\n",
    "fruits = pd.Series(data=['apple','banana','cherry','date'], index=['a','b','c','d'])\n",
    "\n",
    "print(fruits, fruits.index)"
   ]
  },
  {
   "cell_type": "markdown",
   "id": "93084782-d95a-4174-9696-5304b072b064",
   "metadata": {},
   "source": [
    "# 2. Accessing Elements:\n",
    "- print the second (\"b\") element of the fruits Series."
   ]
  },
  {
   "cell_type": "code",
   "execution_count": 3,
   "id": "2d0f58f8-84a8-4df7-8d93-b391ee33fd82",
   "metadata": {
    "tags": []
   },
   "outputs": [
    {
     "data": {
      "text/plain": [
       "'banana'"
      ]
     },
     "execution_count": 3,
     "metadata": {},
     "output_type": "execute_result"
    }
   ],
   "source": [
    "fruits['b']"
   ]
  },
  {
   "cell_type": "markdown",
   "id": "d8aadd86-0e44-4343-8bbc-619229c1f88d",
   "metadata": {},
   "source": [
    "# 3. Series Operations:\n",
    "- Create a Series w/ the squares of the numbers 1 through 5. \n",
    "- Add 10 to each item in the series "
   ]
  },
  {
   "cell_type": "code",
   "execution_count": 4,
   "id": "3d3df1b7-1f9b-4d44-9054-24a03b056aa5",
   "metadata": {
    "tags": []
   },
   "outputs": [
    {
     "name": "stdout",
     "output_type": "stream",
     "text": [
      "0    11\n",
      "1    14\n",
      "2    19\n",
      "3    26\n",
      "4    35\n",
      "dtype: int64\n"
     ]
    }
   ],
   "source": [
    "squares = pd.Series(data=[i**2 for i in range (1, 6)])\n",
    "\n",
    "squares_plus_10 = squares + 10\n",
    "print(squares_plus_10)"
   ]
  },
  {
   "cell_type": "markdown",
   "id": "042d51b2-8532-469c-ba59-804abcb27dea",
   "metadata": {},
   "source": [
    "# 1. Create a DataFrame\n",
    "- Create a DataFrame named students w/ the columns: 'Name', 'Age', 'Grade'.\n",
    "- Populate it w/ data for three fictional students\n",
    "\n",
    "# 2, Accessing Data:\n",
    "-  Print the 'name' colum of the students DataFrame\n",
    "\n",
    "# 3. DataFrame Ops\n",
    "- Add a new column to the students DataFrame named Graduated, which should be True if the student's grade is 'A' and False otherwise\n",
    "- Print the updated DataFrame\n",
    "\n",
    "# 4.Maths: \n",
    "- Calculate and print the average age of the students\n",
    "\n",
    "# 5. Sorting: \n",
    "- Sort the students DataFrame based on the Age column in descending order + print it\n",
    "\n",
    "# 6. Tidy Date\n",
    "- Re-make the cog health data frame from class so it is tidy, with each column as a variable + each row an observation.\n",
    "- Compute the mean + std_dev of all vars\n",
    "- Compute the mean + std_error for happiness var"
   ]
  },
  {
   "cell_type": "code",
   "execution_count": 16,
   "id": "9674899b-25c9-4e95-af71-6ec593dc1b82",
   "metadata": {
    "tags": []
   },
   "outputs": [
    {
     "name": "stdout",
     "output_type": "stream",
     "text": [
      "0       Ellie\n",
      "1      Satvik\n",
      "2    Benjamin\n",
      "Name: Name, dtype: object\n",
      "       Name  Age Grade  Graduated\n",
      "0     Ellie   21     A       True\n",
      "1    Satvik   25     C      False\n",
      "2  Benjamin   27     D      False\n",
      "24.333333333333332\n",
      "       Name  Age Grade  Graduated\n",
      "2  Benjamin   27     D      False\n",
      "1    Satvik   25     C      False\n",
      "0     Ellie   21     A       True\n"
     ]
    }
   ],
   "source": [
    "students = pd.DataFrame({\n",
    "    'Name': ['Ellie', 'Satvik', 'Benjamin'],\n",
    "    'Age': [21, 25, 27],\n",
    "    'Grade': ['A', 'C', 'D']\n",
    "})\n",
    "\n",
    "name_column = students['Name']\n",
    "\n",
    "students['Graduated'] = students['Grade'] == 'A'\n",
    "\n",
    "average_age = students['Age'].mean()\n",
    "\n",
    "students_sorted_by_age = students.sort_values(by='Age', ascending=False)\n",
    "\n",
    "print(name_column)\n",
    "print(students)\n",
    "print(average_age)\n",
    "print(students_sorted_by_age)"
   ]
  },
  {
   "cell_type": "code",
   "execution_count": 17,
   "id": "9cdffbc3-941f-42f9-8ba6-b277e9e0825b",
   "metadata": {
    "tags": []
   },
   "outputs": [
    {
     "data": {
      "text/html": [
       "<div>\n",
       "<style scoped>\n",
       "    .dataframe tbody tr th:only-of-type {\n",
       "        vertical-align: middle;\n",
       "    }\n",
       "\n",
       "    .dataframe tbody tr th {\n",
       "        vertical-align: top;\n",
       "    }\n",
       "\n",
       "    .dataframe thead th {\n",
       "        text-align: right;\n",
       "    }\n",
       "</style>\n",
       "<table border=\"1\" class=\"dataframe\">\n",
       "  <thead>\n",
       "    <tr style=\"text-align: right;\">\n",
       "      <th></th>\n",
       "      <th>Measure</th>\n",
       "      <th>Subject</th>\n",
       "      <th>Value</th>\n",
       "    </tr>\n",
       "  </thead>\n",
       "  <tbody>\n",
       "    <tr>\n",
       "      <th>0</th>\n",
       "      <td>happyness</td>\n",
       "      <td>subject 1</td>\n",
       "      <td>12</td>\n",
       "    </tr>\n",
       "    <tr>\n",
       "      <th>1</th>\n",
       "      <td>language</td>\n",
       "      <td>subject 1</td>\n",
       "      <td>3</td>\n",
       "    </tr>\n",
       "    <tr>\n",
       "      <th>2</th>\n",
       "      <td>energy</td>\n",
       "      <td>subject 1</td>\n",
       "      <td>8</td>\n",
       "    </tr>\n",
       "    <tr>\n",
       "      <th>3</th>\n",
       "      <td>memory</td>\n",
       "      <td>subject 1</td>\n",
       "      <td>5</td>\n",
       "    </tr>\n",
       "    <tr>\n",
       "      <th>4</th>\n",
       "      <td>happyness</td>\n",
       "      <td>subject 2</td>\n",
       "      <td>15</td>\n",
       "    </tr>\n",
       "    <tr>\n",
       "      <th>5</th>\n",
       "      <td>language</td>\n",
       "      <td>subject 2</td>\n",
       "      <td>4</td>\n",
       "    </tr>\n",
       "    <tr>\n",
       "      <th>6</th>\n",
       "      <td>energy</td>\n",
       "      <td>subject 2</td>\n",
       "      <td>9</td>\n",
       "    </tr>\n",
       "    <tr>\n",
       "      <th>7</th>\n",
       "      <td>memory</td>\n",
       "      <td>subject 2</td>\n",
       "      <td>6</td>\n",
       "    </tr>\n",
       "    <tr>\n",
       "      <th>8</th>\n",
       "      <td>happyness</td>\n",
       "      <td>subject 3</td>\n",
       "      <td>18</td>\n",
       "    </tr>\n",
       "    <tr>\n",
       "      <th>9</th>\n",
       "      <td>language</td>\n",
       "      <td>subject 3</td>\n",
       "      <td>7</td>\n",
       "    </tr>\n",
       "    <tr>\n",
       "      <th>10</th>\n",
       "      <td>energy</td>\n",
       "      <td>subject 3</td>\n",
       "      <td>12</td>\n",
       "    </tr>\n",
       "    <tr>\n",
       "      <th>11</th>\n",
       "      <td>memory</td>\n",
       "      <td>subject 3</td>\n",
       "      <td>9</td>\n",
       "    </tr>\n",
       "    <tr>\n",
       "      <th>12</th>\n",
       "      <td>happyness</td>\n",
       "      <td>subject 4</td>\n",
       "      <td>13</td>\n",
       "    </tr>\n",
       "    <tr>\n",
       "      <th>13</th>\n",
       "      <td>language</td>\n",
       "      <td>subject 4</td>\n",
       "      <td>2</td>\n",
       "    </tr>\n",
       "    <tr>\n",
       "      <th>14</th>\n",
       "      <td>energy</td>\n",
       "      <td>subject 4</td>\n",
       "      <td>7</td>\n",
       "    </tr>\n",
       "    <tr>\n",
       "      <th>15</th>\n",
       "      <td>memory</td>\n",
       "      <td>subject 4</td>\n",
       "      <td>4</td>\n",
       "    </tr>\n",
       "  </tbody>\n",
       "</table>\n",
       "</div>"
      ],
      "text/plain": [
       "      Measure    Subject  Value\n",
       "0   happyness  subject 1     12\n",
       "1    language  subject 1      3\n",
       "2      energy  subject 1      8\n",
       "3      memory  subject 1      5\n",
       "4   happyness  subject 2     15\n",
       "5    language  subject 2      4\n",
       "6      energy  subject 2      9\n",
       "7      memory  subject 2      6\n",
       "8   happyness  subject 3     18\n",
       "9    language  subject 3      7\n",
       "10     energy  subject 3     12\n",
       "11     memory  subject 3      9\n",
       "12  happyness  subject 4     13\n",
       "13   language  subject 4      2\n",
       "14     energy  subject 4      7\n",
       "15     memory  subject 4      4"
      ]
     },
     "execution_count": 17,
     "metadata": {},
     "output_type": "execute_result"
    }
   ],
   "source": [
    "cognitive_health_dict = {'happyness': 12,\n",
    "                         'language': 3, \n",
    "                         'energy': 8, \n",
    "                         'memory': 5}\n",
    "cognitive_health_Series = pd.Series(cognitive_health_dict)\n",
    "\n",
    "cognitive_health_subject2_dict = {'happyness': 15,\n",
    "                                  'language': 4, \n",
    "                                  'energy': 9, \n",
    "                                  'memory': 6}\n",
    "cognitive_health_subject2_series = pd.Series(cognitive_health_subject2_dict)\n",
    "\n",
    "cognitive_health_subject3_dict = {'happyness': 15+3,\n",
    "                                  'language': 4+3, \n",
    "                                  'energy': 9+3, \n",
    "                                  'memory': 6+3}\n",
    "cognitive_health_subject3_series = pd.Series(cognitive_health_subject3_dict)\n",
    "\n",
    "cognitive_health_subject4_dict = {'happyness': 15-2,\n",
    "                                  'language': 4-2, \n",
    "                                  'energy': 9-2, \n",
    "                                  'memory': 6-2}\n",
    "cognitive_health_subject4_series = pd.Series(cognitive_health_subject4_dict)\n",
    "\n",
    "sample_dict = {'subject 1': cognitive_health_Series, \n",
    "               'subject 2': cognitive_health_subject2_series, \n",
    "               'subject 3': cognitive_health_subject3_series,\n",
    "               'subject 4': cognitive_health_subject4_series}\n",
    "sample = pd.DataFrame(sample_dict)\n",
    "\n",
    "cols = sample.columns\n",
    "rows = sample.index\n",
    "\n",
    "tidy_sample = sample.reset_index().melt(id_vars='index', value_vars=sample.columns)\n",
    "tidy_sample.columns = ['Measure', 'Subject', 'Value']\n",
    "\n",
    "tidy_sample\n"
   ]
  },
  {
   "cell_type": "code",
   "execution_count": 19,
   "id": "7227fab3-f01a-48dd-b2ca-1b8dbd313255",
   "metadata": {
    "tags": []
   },
   "outputs": [
    {
     "data": {
      "text/plain": [
       "(Measure\n",
       " energy        9.0\n",
       " happyness    14.5\n",
       " language      4.0\n",
       " memory        6.0\n",
       " Name: Value, dtype: float64,\n",
       " Measure\n",
       " energy       2.160247\n",
       " happyness    2.645751\n",
       " language     2.160247\n",
       " memory       2.160247\n",
       " Name: Value, dtype: float64,\n",
       " 14.5,\n",
       " 1.3228756555322954)"
      ]
     },
     "execution_count": 19,
     "metadata": {},
     "output_type": "execute_result"
    }
   ],
   "source": [
    "mean_values = tidy_sample.groupby('Measure')['Value'].mean()\n",
    "std_values = tidy_sample.groupby('Measure')['Value'].std()\n",
    "\n",
    "happiness_data = tidy_sample[tidy_sample['Measure'] == 'happyness']['Value']\n",
    "happiness_mean = happiness_data.mean()\n",
    "happiness_standard_error = happiness_data.sem()\n",
    "\n",
    "mean_values, std_values, happiness_mean, happiness_standard_error"
   ]
  },
  {
   "cell_type": "code",
   "execution_count": null,
   "id": "f5105d05-311b-40e8-9748-3f0a313926c4",
   "metadata": {},
   "outputs": [],
   "source": []
  }
 ],
 "metadata": {
  "kernelspec": {
   "display_name": "Python 3 (ipykernel)",
   "language": "python",
   "name": "python3"
  },
  "language_info": {
   "codemirror_mode": {
    "name": "ipython",
    "version": 3
   },
   "file_extension": ".py",
   "mimetype": "text/x-python",
   "name": "python",
   "nbconvert_exporter": "python",
   "pygments_lexer": "ipython3",
   "version": "3.11.4"
  }
 },
 "nbformat": 4,
 "nbformat_minor": 5
}
